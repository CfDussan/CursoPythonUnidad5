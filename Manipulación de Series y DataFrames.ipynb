{
 "cells": [
  {
   "cell_type": "markdown",
   "metadata": {},
   "source": [
    "Manipulación de Series y DataFrames"
   ]
  },
  {
   "cell_type": "code",
   "execution_count": 1,
   "metadata": {},
   "outputs": [],
   "source": [
    "# Antes de inicar\n",
    "import pandas as pd"
   ]
  },
  {
   "cell_type": "code",
   "execution_count": 2,
   "metadata": {},
   "outputs": [],
   "source": [
    "import numpy as np"
   ]
  },
  {
   "cell_type": "code",
   "execution_count": 3,
   "metadata": {},
   "outputs": [],
   "source": [
    "#Importamos primero los archivos\n",
    "archivo_temperaturas = r'C:\\Users\\Administrator\\Documents\\CF\\CIENCIA DE DATOS IA\\Data Analytics\\M4\\Python\\Lecture 5\\temperaturas_globales.csv'\n",
    "df_temperaturas = pd.read_csv(archivo_temperaturas)\n",
    "\n",
    "archivo_precipitaciones = 'C:\\\\Users\\\\Administrator\\\\Documents\\\\CF\\\\CIENCIA DE DATOS IA\\\\Data Analytics\\\\M4\\\\Python\\\\Lecture 5\\\\precipitaciones_globales.csv'\n",
    "df_precipitaciones = pd.read_csv(archivo_precipitaciones)\n",
    "\n"
   ]
  },
  {
   "cell_type": "markdown",
   "metadata": {},
   "source": [
    "Selecciones "
   ]
  },
  {
   "cell_type": "markdown",
   "metadata": {},
   "source": [
    "Selección de columnas específicas\n",
    "Para seleccionar una columna específica de un DataFrame, utilizamos df['column_name']. \n",
    "\n",
    "columna_a = df['A']\n",
    "\n",
    "Si queremos seleccionar múltiples columnas, pasamos una lista de nombres de columnas a df[[...]].\n",
    "\n",
    "subconjunto = df[['A', 'B']]"
   ]
  },
  {
   "cell_type": "markdown",
   "metadata": {},
   "source": [
    "Supongamos que queremos seleccionar la columna “Londres” del DF df_temperaturas:"
   ]
  },
  {
   "cell_type": "code",
   "execution_count": 4,
   "metadata": {},
   "outputs": [
    {
     "name": "stdout",
     "output_type": "stream",
     "text": [
      "0     24\n",
      "1     10\n",
      "2      2\n",
      "3     31\n",
      "4      1\n",
      "5     25\n",
      "6     22\n",
      "7     15\n",
      "8     19\n",
      "9     11\n",
      "10    -1\n",
      "11     7\n",
      "12    34\n",
      "13    28\n",
      "14    19\n",
      "15    -2\n",
      "16    34\n",
      "17     9\n",
      "18     6\n",
      "19    14\n",
      "20     3\n",
      "21     2\n",
      "22    33\n",
      "23    19\n",
      "Name: Londres, dtype: int64\n"
     ]
    }
   ],
   "source": [
    "# Seleccionar columna \n",
    "\n",
    "print(df_temperaturas['Londres'])"
   ]
  },
  {
   "cell_type": "markdown",
   "metadata": {},
   "source": [
    "Selección de filas específicas\n",
    "Puedes seleccionar filas utilizando .loc para etiquetas de índice o .iloc para posiciones de índice basadas en enteros:\n",
    "\n",
    "Utilizamos .loc[] para seleccionar filas por etiquetas o una condición booleana.\n",
    "\n",
    "Utilizamos .iloc[] para seleccionar filas por posiciones enteras."
   ]
  },
  {
   "cell_type": "markdown",
   "metadata": {},
   "source": [
    "# Seleccionar fila por etiqueta de índice\n",
    "\n",
    "fila = df.loc['index_label']\n",
    "\n",
    "\n",
    "# Seleccionar fila por posición de índice\n",
    "\n",
    "fila = df.iloc[0]"
   ]
  },
  {
   "cell_type": "markdown",
   "metadata": {},
   "source": [
    "Filtrado\n",
    "El filtrado de datos basado en condiciones es otra operación potente, permitiendo seleccionar elementos que cumplen ciertos criterios:\n",
    "\n",
    "Veamos un ejemplo sencillo:\n",
    "\n",
    "# Filtrar filas donde la columna A es mayor que 10\n",
    "df_filtrado = df[df['A'] > 10]"
   ]
  },
  {
   "cell_type": "markdown",
   "metadata": {},
   "source": [
    "Ahora veamos un ejemplo con el caso de esta clase:"
   ]
  },
  {
   "cell_type": "markdown",
   "metadata": {},
   "source": [
    "Temperaturas mayores a 25 grados en Madrid\n",
    "Queremos filtrar y ver todos los meses en los que la temperatura en Madrid fue superior a 25 grados Celsius. Para esto, utilizaremos una operación de filtrado básico en Pandas."
   ]
  },
  {
   "cell_type": "code",
   "execution_count": 5,
   "metadata": {},
   "outputs": [
    {
     "name": "stdout",
     "output_type": "stream",
     "text": [
      "Meses con temperaturas mayores a 25 grados en Madrid:\n",
      "         Fecha  Madrid\n",
      "3   2022-04-30      33\n",
      "4   2022-05-31      26\n",
      "12  2023-01-31      30\n"
     ]
    }
   ],
   "source": [
    "# Filtramos para obtener solo las filas donde la temperatura en Madrid fue mayor a 25 grados\n",
    "\n",
    "meses_calurosos_madrid = df_temperaturas[df_temperaturas['Madrid'] > 25]\n",
    "\n",
    "# Mostramos el resultado\n",
    "\n",
    "print(\"Meses con temperaturas mayores a 25 grados en Madrid:\")\n",
    "\n",
    "print(meses_calurosos_madrid[['Fecha', 'Madrid']])"
   ]
  },
  {
   "cell_type": "markdown",
   "metadata": {},
   "source": [
    "En este ejemplo, df_temperaturas['Madrid'] > 25 crea una máscara booleana que es True para todas las filas donde la condición se cumple, es decir, donde la temperatura en Madrid es mayor a 25 grados. \n",
    "\n",
    "Luego, al usar esta máscara para indexar df_temperaturas, obtenemos un nuevo DataFrame que solo contiene las filas (meses) que cumplen con la condición. \n",
    "\n",
    "Finalmente, seleccionamos solo las columnas Fecha y Madrid para simplificar la visualización de los resultados."
   ]
  },
  {
   "cell_type": "markdown",
   "metadata": {},
   "source": [
    "Ejercicios adicionales por mi cuenta para modificar impresion"
   ]
  },
  {
   "cell_type": "code",
   "execution_count": 6,
   "metadata": {},
   "outputs": [
    {
     "name": "stdout",
     "output_type": "stream",
     "text": [
      "Meses con temperaturas mayores a 25 grados en Madrid:\n",
      "         Fecha  Temperatura °C\n",
      "3   2022-04-30              33\n",
      "4   2022-05-31              26\n",
      "12  2023-01-31              30\n"
     ]
    }
   ],
   "source": [
    "#Renombramos en la impresion Madrid, por Temperatura.\n",
    "print(\"Meses con temperaturas mayores a 25 grados en Madrid:\")\n",
    "print(meses_calurosos_madrid[['Fecha', 'Madrid']].rename(columns={'Madrid': 'Temperatura °C'}))\n",
    "# Para el simbolo de grados utilizamos Alt + 0176"
   ]
  },
  {
   "cell_type": "code",
   "execution_count": 7,
   "metadata": {},
   "outputs": [
    {
     "name": "stdout",
     "output_type": "stream",
     "text": [
      "Meses con temperaturas mayores a 25 grados en Madrid:\n",
      "           Fecha Temperatura\n",
      "3   2022-04-30°C        33°C\n",
      "4   2022-05-31°C        26°C\n",
      "12  2023-01-31°C        30°C\n"
     ]
    }
   ],
   "source": [
    "# Modificamos impresion agregando informacion\n",
    "print(\"Meses con temperaturas mayores a 25 grados en Madrid:\")\n",
    "print(meses_calurosos_madrid[['Fecha', 'Madrid']].rename(columns={'Madrid': 'Temperatura'}).astype(str) + '°C')"
   ]
  },
  {
   "cell_type": "code",
   "execution_count": 8,
   "metadata": {},
   "outputs": [
    {
     "name": "stdout",
     "output_type": "stream",
     "text": [
      "Meses con temperaturas mayores a 25 grados en Madrid:\n",
      "         Fecha  Temperatura\n",
      "3   2022-04-30           33\n",
      "4   2022-05-31           26\n",
      "12  2023-01-31           30 °C\n"
     ]
    }
   ],
   "source": [
    "# De esta manera solo aplica en la ultima. Para el ejercicio no sirve.\n",
    "print(\"Meses con temperaturas mayores a 25 grados en Madrid:\")\n",
    "print(meses_calurosos_madrid[['Fecha', 'Madrid']].rename(columns={'Madrid': 'Temperatura'}), '°C')"
   ]
  },
  {
   "cell_type": "markdown",
   "metadata": {},
   "source": [
    "Continuamos con la clase"
   ]
  },
  {
   "cell_type": "markdown",
   "metadata": {},
   "source": [
    "Operaciones aritméticas y estadísticas"
   ]
  },
  {
   "cell_type": "markdown",
   "metadata": {},
   "source": [
    "Operaciones aritméticas\n",
    "# Sumar 10 a cada elemento de la Serie\n",
    "\n",
    "serie + 10\n",
    "\n",
    "# Multiplicar cada elemento por 2\n",
    "\n",
    "serie * 2  "
   ]
  },
  {
   "cell_type": "markdown",
   "metadata": {},
   "source": [
    "Operaciones estadísticas\n",
    "Calcular medias, medianas, máximos, mínimos, etc."
   ]
  },
  {
   "cell_type": "markdown",
   "metadata": {},
   "source": [
    "Por ejemplo, para obtener una idea general de las temperaturas en Berlín, podemos calcular estadísticas básicas como la media, mediana y desviación estándar para la Serie correspondiente a Berlín."
   ]
  },
  {
   "cell_type": "code",
   "execution_count": 9,
   "metadata": {},
   "outputs": [
    {
     "name": "stdout",
     "output_type": "stream",
     "text": [
      "Media de Temperatura en Berlín: 13.583333333333334\n",
      "Mediana de Temperatura en Berlín: 12.5\n",
      "Desviación Estándar de la Temperatura en Berlín: 10.375207349071722\n"
     ]
    }
   ],
   "source": [
    "# Operaciones estadísticas\n",
    "berlin_temps = df_temperaturas['Berlín']\n",
    "\n",
    "print(\"Media de Temperatura en Berlín:\", berlin_temps.mean())\n",
    "print(\"Mediana de Temperatura en Berlín:\", berlin_temps.median())\n",
    "print(\"Desviación Estándar de la Temperatura en Berlín:\", berlin_temps.std())"
   ]
  },
  {
   "cell_type": "code",
   "execution_count": 10,
   "metadata": {},
   "outputs": [
    {
     "name": "stdout",
     "output_type": "stream",
     "text": [
      "Media de Temperatura en Berlín: 13.58°C\n",
      "Mediana de Temperatura en Berlín: 12.5°C\n",
      "Desviación Estándar de la Temperatura en Berlín: 10.38 °C\n"
     ]
    }
   ],
   "source": [
    "# Castiada para que me de dos decimales y con el signo de °C (por mi cuenta)\n",
    "print(\"Media de Temperatura en Berlín:\", np.around(berlin_temps.mean(),decimals=2).astype(str) + '°C')\n",
    "print(\"Mediana de Temperatura en Berlín:\", np.around(berlin_temps.median(),decimals=2).astype(str) + '°C')\n",
    "print(\"Desviación Estándar de la Temperatura en Berlín:\", np.around(berlin_temps.std(), decimals=2), '°C')\n",
    "#Para mayor ilustracion sobre castiar, ver DA-HW4 - Consignas.ipynb Homework lecture 4"
   ]
  },
  {
   "cell_type": "markdown",
   "metadata": {},
   "source": [
    "Para mayor ilustracion sobre castiar, ver DA-HW4 - Consignas.ipynb Homework lecture 4"
   ]
  },
  {
   "cell_type": "markdown",
   "metadata": {},
   "source": [
    "Métodos útiles"
   ]
  },
  {
   "cell_type": "markdown",
   "metadata": {},
   "source": [
    "Cambio de tipo de datos\n",
    "Cambio de tipo de datos con .astype(): cambiar el tipo de datos de una Serie o columnas de un DataFrame."
   ]
  },
  {
   "cell_type": "markdown",
   "metadata": {},
   "source": [
    "Si por alguna razón las temperaturas se importaron como strings (texto), necesitaríamos convertirlas a flotantes para realizar cálculos. Supongamos que este es el caso para las temperaturas en París."
   ]
  },
  {
   "cell_type": "code",
   "execution_count": 11,
   "metadata": {},
   "outputs": [],
   "source": [
    "# Asumiendo que las temperaturas de París vinieron como strings, podríamos convertirlas a flotantes\n",
    "paris_temps = df_temperaturas['París'].astype(float)"
   ]
  },
  {
   "cell_type": "code",
   "execution_count": 12,
   "metadata": {},
   "outputs": [
    {
     "name": "stdout",
     "output_type": "stream",
     "text": [
      "0     6.0\n",
      "1    29.0\n",
      "2     3.0\n",
      "3    -4.0\n",
      "4     0.0\n",
      "Name: París, dtype: float64\n"
     ]
    }
   ],
   "source": [
    "print(paris_temps.head())"
   ]
  },
  {
   "cell_type": "markdown",
   "metadata": {},
   "source": [
    "Conteo de valores únicos con .value_counts()\n",
    ".value_counts(): cuenta la ocurrencia de cada valor único. Es muy útil para análisis de frecuencias."
   ]
  },
  {
   "cell_type": "markdown",
   "metadata": {},
   "source": [
    "Para demostrar el uso de .value_counts() con los datos importados, necesitaremos crear una Serie a partir de estos datos que sea adecuada para este método. \n",
    "\n",
    "value_counts() es especialmente útil para columnas con datos categóricos o discretos, ya que cuenta la ocurrencia de cada valor único en la Serie.\n",
    "\n",
    "Dado que los datos de temperatura y precipitación son numéricos y continuos, para resolver este inconveniente, vamos a seguir el proceso completo: leer el archivo temperaturas_globales2.csv, realizar la categorización de las temperaturas para Madrid, y luego guardar esta información categorizada en un nuevo archivo CSV."
   ]
  },
  {
   "cell_type": "code",
   "execution_count": 13,
   "metadata": {},
   "outputs": [
    {
     "name": "stdout",
     "output_type": "stream",
     "text": [
      "count    24.000000\n",
      "mean     14.708333\n",
      "std      11.437844\n",
      "min      -5.000000\n",
      "25%       5.000000\n",
      "50%      19.500000\n",
      "75%      23.000000\n",
      "max      33.000000\n",
      "Name: Madrid, dtype: float64\n"
     ]
    }
   ],
   "source": [
    "# Uso de describe()\n",
    "\n",
    "# Obtener estadísticas descriptivas de las temperaturas en Madrid\n",
    "\n",
    "descripcion_madrid = df_temperaturas['Madrid'].describe()\n",
    "\n",
    "\n",
    "# Imprimir el resultado\n",
    "\n",
    "print(descripcion_madrid)"
   ]
  },
  {
   "cell_type": "markdown",
   "metadata": {},
   "source": [
    "Haciendolo de una manera distinta, ya que los datos no coinciden"
   ]
  },
  {
   "cell_type": "code",
   "execution_count": 14,
   "metadata": {},
   "outputs": [],
   "source": [
    "archivo_temperaturas2 = r'C:\\Users\\Administrator\\Documents\\CF\\CIENCIA DE DATOS IA\\Data Analytics\\M4\\Python\\Lecture 5\\temperaturas_globales.csv'\n",
    "df_temperaturas2 = pd.read_csv(archivo_temperaturas2)"
   ]
  },
  {
   "cell_type": "code",
   "execution_count": 15,
   "metadata": {},
   "outputs": [
    {
     "name": "stdout",
     "output_type": "stream",
     "text": [
      "count    24.000000\n",
      "mean     14.708333\n",
      "std      11.437844\n",
      "min      -5.000000\n",
      "25%       5.000000\n",
      "50%      19.500000\n",
      "75%      23.000000\n",
      "max      33.000000\n",
      "Name: Madrid, dtype: float64\n"
     ]
    }
   ],
   "source": [
    "# Uso de describe()\n",
    "\n",
    "# Obtener estadísticas descriptivas de las temperaturas en Madrid\n",
    "\n",
    "descripcion_madrid2 = df_temperaturas2['Madrid'].describe()\n",
    "\n",
    "\n",
    "# Imprimir el resultado\n",
    "\n",
    "print(descripcion_madrid2)"
   ]
  },
  {
   "cell_type": "code",
   "execution_count": 16,
   "metadata": {},
   "outputs": [
    {
     "name": "stdout",
     "output_type": "stream",
     "text": [
      "         Fecha  Nueva York  París  Berlín  Londres  Madrid Categoría_Madrid2\n",
      "0   2022-01-31           2      6      22       24      23              Alto\n",
      "1   2022-02-28          26     29      18       10      21              Alto\n",
      "2   2022-03-31          20      3      14        2      -4          Muy bajo\n",
      "3   2022-04-30          32     -4      26       31      33          Muy Alto\n",
      "4   2022-05-31          18      0      33        1      26              Alto\n",
      "5   2022-06-30          11     14       8       25      -3          Muy bajo\n",
      "6   2022-07-31           8      5       0       22      22              Alto\n",
      "7   2022-08-31           3     22       7       15      22              Alto\n",
      "8   2022-09-30           3     10      17       19      19          Moderado\n",
      "9   2022-10-31          28     31       9       11      -5          Muy bajo\n",
      "10  2022-11-30          20     30      31       -1      23              Alto\n",
      "11  2022-12-31           7     26       2        7      22              Alto\n",
      "12  2023-01-31          25     -2      11       34      30          Muy Alto\n",
      "13  2023-02-28          -5     -3       9       28      20              Alto\n",
      "14  2023-03-31          10     20      19       19      11          Moderado\n",
      "15  2023-04-30          19      7      -3       -2       5              Bajo\n",
      "16  2023-05-31          19     29      13       34       3              Bajo\n",
      "17  2023-06-30           8     31      17        9      -2          Muy bajo\n",
      "18  2023-07-31           6     29      12        6       5              Bajo\n",
      "19  2023-08-31          24      2      18       14       6              Bajo\n",
      "20  2023-09-30          28     32      34        3      16          Moderado\n",
      "21  2023-10-31          21     33       5        2      12          Moderado\n",
      "22  2023-11-30          33     19       2       33      23              Alto\n",
      "23  2023-12-31          32      6       2       19      25              Alto\n"
     ]
    }
   ],
   "source": [
    "# Categorización de las temperaturas para Madrid\n",
    "# Categorizar las temperaturas de Madrid\n",
    "\n",
    "\n",
    "bins = [-5, 0, 10, 20, 30, 40]\n",
    "\n",
    "labels = ['Muy bajo', 'Bajo', 'Moderado', 'Alto', 'Muy Alto']\n",
    "\n",
    "df_temperaturas2['Categoría_Madrid2'] = pd.cut(df_temperaturas2['Madrid'], bins=bins, labels=labels, right=False)\n",
    "\n",
    "\n",
    "print(df_temperaturas2)"
   ]
  },
  {
   "cell_type": "code",
   "execution_count": 17,
   "metadata": {},
   "outputs": [
    {
     "name": "stdout",
     "output_type": "stream",
     "text": [
      "Categoría_Madrid2\n",
      "Alto        10\n",
      "Muy bajo     4\n",
      "Bajo         4\n",
      "Moderado     4\n",
      "Muy Alto     2\n",
      "Name: count, dtype: int64\n"
     ]
    }
   ],
   "source": [
    "# Contar las ocurrencias de cada categoría\n",
    "conteo_categorias = df_temperaturas2['Categoría_Madrid2'].value_counts()\n",
    "\n",
    "# Imprimir el resultado\n",
    "print(conteo_categorias)\n"
   ]
  },
  {
   "cell_type": "code",
   "execution_count": 18,
   "metadata": {},
   "outputs": [
    {
     "name": "stdout",
     "output_type": "stream",
     "text": [
      "Archivo guardado en temperaturas_madrid_categorizadas.csv\n"
     ]
    }
   ],
   "source": [
    "# Ruta para el nuevo archivo CSV\n",
    "path_nuevo_csv = 'temperaturas_madrid_categorizadas.csv'\n",
    "\n",
    "# Guardar el DataFrame con las categorías en un nuevo archivo CSV\n",
    "df_temperaturas2.to_csv(path_nuevo_csv, index=False)\n",
    "\n",
    "# Confirmar que se ha guardado correctamente\n",
    "print(f\"Archivo guardado en {path_nuevo_csv}\")\n"
   ]
  },
  {
   "cell_type": "markdown",
   "metadata": {},
   "source": [
    "Información del DataFrame con df.info()\n",
    "El método df.info() es invaluable para obtener un rápido resumen del DataFrame, incluyendo el número de entradas no nulas en cada columna y el tipo de dato de cada columna. Esto es especialmente útil para identificar columnas con datos faltantes y para entender la estructura general de los datos con los que estás trabajando."
   ]
  },
  {
   "cell_type": "markdown",
   "metadata": {},
   "source": [
    "Supongamos que queremos obtener la información general del DataFrame df_temperaturas que contiene datos de temperatura para varias ciudades:"
   ]
  },
  {
   "cell_type": "code",
   "execution_count": 19,
   "metadata": {},
   "outputs": [
    {
     "name": "stdout",
     "output_type": "stream",
     "text": [
      "<class 'pandas.core.frame.DataFrame'>\n",
      "RangeIndex: 24 entries, 0 to 23\n",
      "Data columns (total 6 columns):\n",
      " #   Column      Non-Null Count  Dtype \n",
      "---  ------      --------------  ----- \n",
      " 0   Fecha       24 non-null     object\n",
      " 1   Nueva York  24 non-null     int64 \n",
      " 2   París       24 non-null     int64 \n",
      " 3   Berlín      24 non-null     int64 \n",
      " 4   Londres     24 non-null     int64 \n",
      " 5   Madrid      24 non-null     int64 \n",
      "dtypes: int64(5), object(1)\n",
      "memory usage: 1.3+ KB\n"
     ]
    }
   ],
   "source": [
    "# Obtener información del DataFrame\n",
    "info_general = df_temperaturas.info()"
   ]
  },
  {
   "cell_type": "code",
   "execution_count": 20,
   "metadata": {},
   "outputs": [
    {
     "name": "stdout",
     "output_type": "stream",
     "text": [
      "<class 'pandas.core.frame.DataFrame'>\n",
      "RangeIndex: 24 entries, 0 to 23\n",
      "Data columns (total 7 columns):\n",
      " #   Column             Non-Null Count  Dtype   \n",
      "---  ------             --------------  -----   \n",
      " 0   Fecha              24 non-null     object  \n",
      " 1   Nueva York         24 non-null     int64   \n",
      " 2   París              24 non-null     int64   \n",
      " 3   Berlín             24 non-null     int64   \n",
      " 4   Londres            24 non-null     int64   \n",
      " 5   Madrid             24 non-null     int64   \n",
      " 6   Categoría_Madrid2  24 non-null     category\n",
      "dtypes: category(1), int64(5), object(1)\n",
      "memory usage: 1.5+ KB\n"
     ]
    }
   ],
   "source": [
    "# Obtener información del DataFrame\n",
    "info_general = df_temperaturas2.info()"
   ]
  },
  {
   "cell_type": "markdown",
   "metadata": {},
   "source": [
    "Primeras N Filas con df.head(n)\n",
    "Para obtener una vista rápida de los datos, df.head(n) muestra las primeras n filas del DataFrame. Es una forma excelente de tener una primera impresión de los datos, sus valores y cómo están organizados."
   ]
  },
  {
   "cell_type": "code",
   "execution_count": 21,
   "metadata": {},
   "outputs": [
    {
     "name": "stdout",
     "output_type": "stream",
     "text": [
      "        Fecha  Nueva York  París  Berlín  Londres  Madrid\n",
      "0  2022-01-31           2      6      22       24      23\n",
      "1  2022-02-28          26     29      18       10      21\n",
      "2  2022-03-31          20      3      14        2      -4\n",
      "3  2022-04-30          32     -4      26       31      33\n",
      "4  2022-05-31          18      0      33        1      26\n"
     ]
    }
   ],
   "source": [
    "# Mostrar las primeras 5 filas del DataFrame\n",
    "primeras_cinco = df_temperaturas.head(5)\n",
    "print(primeras_cinco)"
   ]
  },
  {
   "cell_type": "markdown",
   "metadata": {},
   "source": [
    " Manejo de datos faltantes\n",
    " En el análisis de datos, es común encontrar valores faltantes o NaN. Pandas proporciona varias funciones para manejar datos faltantes, como .dropna() para eliminar filas o columnas con datos faltantes y .fillna() para reemplazar los valores faltantes con un valor específico."
   ]
  },
  {
   "cell_type": "code",
   "execution_count": 22,
   "metadata": {},
   "outputs": [],
   "source": [
    "# Eliminar filas con datos faltantes\n",
    "# df_limpio = df.dropna()\n",
    "\n",
    "# Rellenar datos faltantes con cero\n",
    "# df_rellenado = df.fillna(0)"
   ]
  },
  {
   "cell_type": "markdown",
   "metadata": {},
   "source": [
    "Eliminar datos\n",
    "\n",
    "Eliminar con .dropna(): elimina filas o columnas con datos faltantes (valores NaN)."
   ]
  },
  {
   "cell_type": "markdown",
   "metadata": {},
   "source": [
    "Supongamos que, por algún motivo, algunos registros de temperaturas en el archivo temperaturas_globales.csv están incompletos y queremos eliminar cualquier mes que no tenga datos completos para todas las ciudades mencionadas."
   ]
  },
  {
   "cell_type": "code",
   "execution_count": 23,
   "metadata": {},
   "outputs": [
    {
     "name": "stdout",
     "output_type": "stream",
     "text": [
      "         Fecha  Nueva York  París  Berlín  Londres  Madrid\n",
      "0   2022-01-31           2      6      22       24      23\n",
      "1   2022-02-28          26     29      18       10      21\n",
      "2   2022-03-31          20      3      14        2      -4\n",
      "3   2022-04-30          32     -4      26       31      33\n",
      "4   2022-05-31          18      0      33        1      26\n",
      "5   2022-06-30          11     14       8       25      -3\n",
      "6   2022-07-31           8      5       0       22      22\n",
      "7   2022-08-31           3     22       7       15      22\n",
      "8   2022-09-30           3     10      17       19      19\n",
      "9   2022-10-31          28     31       9       11      -5\n",
      "10  2022-11-30          20     30      31       -1      23\n",
      "11  2022-12-31           7     26       2        7      22\n",
      "12  2023-01-31          25     -2      11       34      30\n",
      "13  2023-02-28          -5     -3       9       28      20\n",
      "14  2023-03-31          10     20      19       19      11\n",
      "15  2023-04-30          19      7      -3       -2       5\n",
      "16  2023-05-31          19     29      13       34       3\n",
      "17  2023-06-30           8     31      17        9      -2\n",
      "18  2023-07-31           6     29      12        6       5\n",
      "19  2023-08-31          24      2      18       14       6\n",
      "20  2023-09-30          28     32      34        3      16\n",
      "21  2023-10-31          21     33       5        2      12\n",
      "22  2023-11-30          33     19       2       33      23\n",
      "23  2023-12-31          32      6       2       19      25\n"
     ]
    }
   ],
   "source": [
    "# Usando df.dropna() para eliminar filas con datos faltantes\n",
    "# Esto eliminará cualquier fila que tenga al menos un valor NaN en cualquier columna\n",
    "\n",
    "df_limpio = df_temperaturas.dropna()\n",
    "\n",
    "# Si quieres eliminar columnas en lugar de filas, usa axis=1\n",
    "# df_limpio = df_temperaturas.dropna(axis=1)\n",
    "# Mostrando el DataFrame después de eliminar filas con datos faltantes\n",
    "\n",
    "print(df_limpio)\n"
   ]
  },
  {
   "cell_type": "markdown",
   "metadata": {},
   "source": [
    "Rellenar datos faltantes\n",
    "Rellenar con .fillna(): rellena los valores faltantes con un valor específico."
   ]
  },
  {
   "cell_type": "markdown",
   "metadata": {},
   "source": [
    "En el caso de que haya meses faltantes o datos nulos en nuestras series de temperaturas, podríamos querer rellenar estos valores con la media de la columna para mantener la consistencia del análisis.\n",
    "\n",
    "serie.fillna(valor): rellena los elementos NaN con un valor especificado."
   ]
  },
  {
   "cell_type": "code",
   "execution_count": 24,
   "metadata": {},
   "outputs": [
    {
     "name": "stdout",
     "output_type": "stream",
     "text": [
      "0      2\n",
      "1     26\n",
      "2     20\n",
      "3     32\n",
      "4     18\n",
      "5     11\n",
      "6      8\n",
      "7      3\n",
      "8      3\n",
      "9     28\n",
      "10    20\n",
      "11     7\n",
      "12    25\n",
      "13    -5\n",
      "14    10\n",
      "15    19\n",
      "16    19\n",
      "17     8\n",
      "18     6\n",
      "19    24\n",
      "20    28\n",
      "21    21\n",
      "22    33\n",
      "23    32\n",
      "Name: Nueva York, dtype: int64\n"
     ]
    }
   ],
   "source": [
    "# Rellenar valores NaN con la media de las temperaturas de Nueva York\n",
    "\n",
    "ny_temps_filled = df_temperaturas['Nueva York'].fillna(df_temperaturas['Nueva York'].mean())\n",
    "\n",
    "print(ny_temps_filled)\n"
   ]
  },
  {
   "cell_type": "markdown",
   "metadata": {},
   "source": [
    "Creación y modificación de columnas\n",
    "\n",
    "Puedes crear o modificar columnas simplemente asignando valores a ellas:"
   ]
  },
  {
   "cell_type": "markdown",
   "metadata": {},
   "source": [
    "# Crear una nueva columna C como suma de A y B\n",
    "df['C'] = df['A'] + df['B']\n",
    "\n",
    "# Modificar columna A, incrementando todos sus valores en 1\n",
    "df['A'] = df['A'] + 1"
   ]
  },
  {
   "cell_type": "markdown",
   "metadata": {},
   "source": [
    "Uso de funciones Lambda y apply()\n",
    "\n",
    ".apply(func): aplica una función a cada elemento de una Serie, lo que permite una gran flexibilidad en la manipulación de datos."
   ]
  },
  {
   "cell_type": "markdown",
   "metadata": {},
   "source": [
    "Veamos un ejemplo de como crear una columna con apply\n",
    "En este caso, usaremos el archivo temperaturas_globales.csv y supondremos que queremos añadir una nueva columna que indique si la temperatura en Madrid es considerada \"Calurosa\" o \"Fresca\" basada en un umbral específico, digamos 25 grados Celsius.\n",
    "\n",
    "Basándonos en las temperaturas de Madrid, clasificaremos cada registro como \"Caluroso\" si la temperatura supera los 25 grados, o \"Fresco\" en caso contrario."
   ]
  },
  {
   "cell_type": "code",
   "execution_count": 25,
   "metadata": {},
   "outputs": [
    {
     "name": "stdout",
     "output_type": "stream",
     "text": [
      "        Fecha  Madrid Clasificación_Madrid\n",
      "0  2022-01-31      23               Fresco\n",
      "1  2022-02-28      21               Fresco\n",
      "2  2022-03-31      -4               Fresco\n",
      "3  2022-04-30      33             Caluroso\n",
      "4  2022-05-31      26             Caluroso\n",
      "        Fecha  Nueva York  París  Berlín  Londres  Madrid Clasificación_Madrid\n",
      "0  2022-01-31           2      6      22       24      23               Fresco\n",
      "1  2022-02-28          26     29      18       10      21               Fresco\n",
      "2  2022-03-31          20      3      14        2      -4               Fresco\n",
      "3  2022-04-30          32     -4      26       31      33             Caluroso\n",
      "4  2022-05-31          18      0      33        1      26             Caluroso\n"
     ]
    }
   ],
   "source": [
    "# Crear una nueva columna\n",
    "# Usamos una expresión lambda junto con apply para evaluar cada temperatura de Madrid\n",
    "\n",
    "df_temperaturas['Clasificación_Madrid'] = df_temperaturas['Madrid'].apply(lambda x: 'Caluroso' if x > 25 else 'Fresco')\n",
    "# Mostramos las primeras filas para verificar la nueva columna\n",
    "\n",
    "print(df_temperaturas[['Fecha', 'Madrid', 'Clasificación_Madrid']].head())\n",
    "print(df_temperaturas.head())"
   ]
  },
  {
   "cell_type": "code",
   "execution_count": 26,
   "metadata": {},
   "outputs": [
    {
     "name": "stdout",
     "output_type": "stream",
     "text": [
      "        Fecha  Nueva York  París  Berlín  Londres  Madrid Clasificación_Madrid\n",
      "0  2022-01-31           2      6      22       24      23                 otro\n",
      "1  2022-02-28          26     29      18       10      21                 otro\n",
      "2  2022-03-31          20      3      14        2      -4               Fresco\n",
      "3  2022-04-30          32     -4      26       31      33             Caluroso\n",
      "4  2022-05-31          18      0      33        1      26             Caluroso\n",
      "5  2022-06-30          11     14       8       25      -3               Fresco\n",
      "6  2022-07-31           8      5       0       22      22                 otro\n",
      "7  2022-08-31           3     22       7       15      22                 otro\n",
      "8  2022-09-30           3     10      17       19      19                 otro\n",
      "9  2022-10-31          28     31       9       11      -5               Fresco\n"
     ]
    }
   ],
   "source": [
    "#Un ejemplo con 3 opciones\n",
    "df_temperaturas3=df_temperaturas.copy()\n",
    "df_temperaturas4=df_temperaturas.copy()\n",
    "df_temperaturas3['Clasificación_Madrid'] = df_temperaturas3['Madrid'].apply(lambda x: 'Caluroso' if x > 25 else 'otro' if x > 10 else 'Fresco')\n",
    "print(df_temperaturas3.head(10))\n",
    "\n"
   ]
  },
  {
   "cell_type": "code",
   "execution_count": 27,
   "metadata": {},
   "outputs": [
    {
     "name": "stdout",
     "output_type": "stream",
     "text": [
      "        Fecha  Nueva York  París  Berlín  Londres  Madrid Clasificación_Madrid\n",
      "0  2022-01-31           2      6      22       24      23             Caluroso\n",
      "1  2022-02-28          26     29      18       10      21             Caluroso\n",
      "2  2022-03-31          20      3      14        2      -4                 Frio\n",
      "3  2022-04-30          32     -4      26       31      33         Myu caliente\n",
      "4  2022-05-31          18      0      33        1      26             Caluroso\n"
     ]
    }
   ],
   "source": [
    "# Con 4\n",
    "df_temperaturas4['Clasificación_Madrid'] = df_temperaturas4['Madrid'].apply(lambda x: 'Myu caliente' if x > 30 else 'Caluroso' if x > 20 else 'Fresco' if x > 10 else 'Frio')\n",
    "print(df_temperaturas4.head())"
   ]
  },
  {
   "cell_type": "code",
   "execution_count": 28,
   "metadata": {},
   "outputs": [
    {
     "name": "stdout",
     "output_type": "stream",
     "text": [
      "         Fecha  Nueva York  París  Berlín  Londres  Madrid  \\\n",
      "0   2022-01-31           2      6      22       24      23   \n",
      "1   2022-02-28          26     29      18       10      21   \n",
      "2   2022-03-31          20      3      14        2      -4   \n",
      "3   2022-04-30          32     -4      26       31      33   \n",
      "4   2022-05-31          18      0      33        1      26   \n",
      "5   2022-06-30          11     14       8       25      -3   \n",
      "6   2022-07-31           8      5       0       22      22   \n",
      "7   2022-08-31           3     22       7       15      22   \n",
      "8   2022-09-30           3     10      17       19      19   \n",
      "9   2022-10-31          28     31       9       11      -5   \n",
      "10  2022-11-30          20     30      31       -1      23   \n",
      "11  2022-12-31           7     26       2        7      22   \n",
      "12  2023-01-31          25     -2      11       34      30   \n",
      "13  2023-02-28          -5     -3       9       28      20   \n",
      "14  2023-03-31          10     20      19       19      11   \n",
      "15  2023-04-30          19      7      -3       -2       5   \n",
      "16  2023-05-31          19     29      13       34       3   \n",
      "17  2023-06-30           8     31      17        9      -2   \n",
      "18  2023-07-31           6     29      12        6       5   \n",
      "19  2023-08-31          24      2      18       14       6   \n",
      "20  2023-09-30          28     32      34        3      16   \n",
      "21  2023-10-31          21     33       5        2      12   \n",
      "22  2023-11-30          33     19       2       33      23   \n",
      "23  2023-12-31          32      6       2       19      25   \n",
      "\n",
      "   Clasificación_Madrid  \n",
      "0                Fresco  \n",
      "1                Fresco  \n",
      "2                Fresco  \n",
      "3              Caluroso  \n",
      "4              Caluroso  \n",
      "5                Fresco  \n",
      "6                Fresco  \n",
      "7                Fresco  \n",
      "8                Fresco  \n",
      "9                Fresco  \n",
      "10               Fresco  \n",
      "11               Fresco  \n",
      "12             Caluroso  \n",
      "13               Fresco  \n",
      "14               Fresco  \n",
      "15               Fresco  \n",
      "16               Fresco  \n",
      "17               Fresco  \n",
      "18               Fresco  \n",
      "19               Fresco  \n",
      "20               Fresco  \n",
      "21               Fresco  \n",
      "22               Fresco  \n",
      "23               Fresco  \n"
     ]
    }
   ],
   "source": [
    "print(df_temperaturas)"
   ]
  },
  {
   "cell_type": "code",
   "execution_count": 29,
   "metadata": {},
   "outputs": [
    {
     "name": "stdout",
     "output_type": "stream",
     "text": [
      "        Fecha  Nueva York  París  Berlín  Londres  Madrid Clasificación_Madrid\n",
      "0  2022-01-31           2      6      22       24      23               Fresco\n",
      "1  2022-02-28          26     29      18       10      21               Fresco\n",
      "2  2022-03-31          20      3      14        2      -4               Fresco\n",
      "3  2022-04-30          32     -4      26       31      33             Caluroso\n",
      "4  2022-05-31          18      0      33        1      26             Caluroso\n",
      "        Fecha  Nueva York  París  Berlín  Londres  Madrid Clasificación_Madrid\n",
      "0  2022-01-31           2      6      22       24      23                 otro\n",
      "1  2022-02-28          26     29      18       10      21                 otro\n",
      "2  2022-03-31          20      3      14        2      -4               Fresco\n",
      "3  2022-04-30          32     -4      26       31      33             Caluroso\n",
      "4  2022-05-31          18      0      33        1      26             Caluroso\n",
      "        Fecha  Nueva York  París  Berlín  Londres  Madrid Clasificación_Madrid\n",
      "0  2022-01-31           2      6      22       24      23             Caluroso\n",
      "1  2022-02-28          26     29      18       10      21             Caluroso\n",
      "2  2022-03-31          20      3      14        2      -4                 Frio\n",
      "3  2022-04-30          32     -4      26       31      33         Myu caliente\n",
      "4  2022-05-31          18      0      33        1      26             Caluroso\n"
     ]
    }
   ],
   "source": [
    "print(df_temperaturas.head())\n",
    "print(df_temperaturas3.head())\n",
    "print(df_temperaturas4.head())"
   ]
  },
  {
   "cell_type": "markdown",
   "metadata": {},
   "source": [
    "Ahora, supongamos que queremos ajustar las temperaturas de Londres sumándoles 1 grado Celsius a todas ellas, posiblemente para ajustar a un estándar de medición diferente."
   ]
  },
  {
   "cell_type": "code",
   "execution_count": 30,
   "metadata": {},
   "outputs": [
    {
     "name": "stdout",
     "output_type": "stream",
     "text": [
      "0     25\n",
      "1     11\n",
      "2      3\n",
      "3     32\n",
      "4      2\n",
      "5     26\n",
      "6     23\n",
      "7     16\n",
      "8     20\n",
      "9     12\n",
      "10     0\n",
      "11     8\n",
      "12    35\n",
      "13    29\n",
      "14    20\n",
      "15    -1\n",
      "16    35\n",
      "17    10\n",
      "18     7\n",
      "19    15\n",
      "20     4\n",
      "21     3\n",
      "22    34\n",
      "23    20\n",
      "Name: Londres, dtype: int64\n"
     ]
    }
   ],
   "source": [
    "# Uso de apply()\n",
    "londres_temps_ajustadas = df_temperaturas['Londres'].apply(lambda x: x + 1)\n",
    "\n",
    "print(londres_temps_ajustadas)"
   ]
  },
  {
   "cell_type": "code",
   "execution_count": 31,
   "metadata": {},
   "outputs": [
    {
     "name": "stdout",
     "output_type": "stream",
     "text": [
      "0     24\n",
      "1     10\n",
      "2      2\n",
      "3     31\n",
      "4      1\n",
      "5     25\n",
      "6     22\n",
      "7     15\n",
      "8     19\n",
      "9     11\n",
      "10    -1\n",
      "11     7\n",
      "12    34\n",
      "13    28\n",
      "14    19\n",
      "15    -2\n",
      "16    34\n",
      "17     9\n",
      "18     6\n",
      "19    14\n",
      "20     3\n",
      "21     2\n",
      "22    33\n",
      "23    19\n",
      "Name: Londres, dtype: int64\n"
     ]
    }
   ],
   "source": [
    "print(df_temperaturas['Londres'])"
   ]
  }
 ],
 "metadata": {
  "kernelspec": {
   "display_name": "Python 3",
   "language": "python",
   "name": "python3"
  },
  "language_info": {
   "codemirror_mode": {
    "name": "ipython",
    "version": 3
   },
   "file_extension": ".py",
   "mimetype": "text/x-python",
   "name": "python",
   "nbconvert_exporter": "python",
   "pygments_lexer": "ipython3",
   "version": "3.12.4"
  }
 },
 "nbformat": 4,
 "nbformat_minor": 2
}
